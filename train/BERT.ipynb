{
  "cells": [
    {
      "cell_type": "markdown",
      "metadata": {
        "id": "WvLj6Um_AglI"
      },
      "source": [
        "1. Install requirements"
      ]
    },
    {
      "cell_type": "code",
      "execution_count": 1,
      "metadata": {
        "colab": {
          "base_uri": "https://localhost:8080/"
        },
        "id": "5St8vxFqAeFC",
        "outputId": "ebbb6793-d76e-4f3a-af47-bf56315843ac"
      },
      "outputs": [
        {
          "name": "stdout",
          "output_type": "stream",
          "text": [
            "Requirement already satisfied: transformers in d:\\environment\\anacode\\lib\\site-packages (4.39.3)\n",
            "Requirement already satisfied: filelock in d:\\environment\\anacode\\lib\\site-packages (from transformers) (3.13.1)\n",
            "Requirement already satisfied: huggingface-hub<1.0,>=0.19.3 in d:\\environment\\anacode\\lib\\site-packages (from transformers) (0.22.2)\n",
            "Requirement already satisfied: numpy>=1.17 in d:\\environment\\anacode\\lib\\site-packages (from transformers) (1.26.4)\n",
            "Requirement already satisfied: packaging>=20.0 in d:\\environment\\anacode\\lib\\site-packages (from transformers) (23.1)\n",
            "Requirement already satisfied: pyyaml>=5.1 in d:\\environment\\anacode\\lib\\site-packages (from transformers) (6.0.1)\n",
            "Requirement already satisfied: regex!=2019.12.17 in d:\\environment\\anacode\\lib\\site-packages (from transformers) (2023.10.3)\n",
            "Requirement already satisfied: requests in d:\\environment\\anacode\\lib\\site-packages (from transformers) (2.31.0)\n",
            "Requirement already satisfied: tokenizers<0.19,>=0.14 in d:\\environment\\anacode\\lib\\site-packages (from transformers) (0.15.2)\n",
            "Requirement already satisfied: safetensors>=0.4.1 in d:\\environment\\anacode\\lib\\site-packages (from transformers) (0.4.2)\n",
            "Requirement already satisfied: tqdm>=4.27 in d:\\environment\\anacode\\lib\\site-packages (from transformers) (4.65.0)\n",
            "Requirement already satisfied: fsspec>=2023.5.0 in d:\\environment\\anacode\\lib\\site-packages (from huggingface-hub<1.0,>=0.19.3->transformers) (2023.10.0)\n",
            "Requirement already satisfied: typing-extensions>=3.7.4.3 in d:\\environment\\anacode\\lib\\site-packages (from huggingface-hub<1.0,>=0.19.3->transformers) (4.9.0)\n",
            "Requirement already satisfied: colorama in d:\\environment\\anacode\\lib\\site-packages (from tqdm>=4.27->transformers) (0.4.6)\n",
            "Requirement already satisfied: charset-normalizer<4,>=2 in d:\\environment\\anacode\\lib\\site-packages (from requests->transformers) (2.0.4)\n",
            "Requirement already satisfied: idna<4,>=2.5 in d:\\environment\\anacode\\lib\\site-packages (from requests->transformers) (3.4)\n",
            "Requirement already satisfied: urllib3<3,>=1.21.1 in d:\\environment\\anacode\\lib\\site-packages (from requests->transformers) (2.0.7)\n",
            "Requirement already satisfied: certifi>=2017.4.17 in d:\\environment\\anacode\\lib\\site-packages (from requests->transformers) (2024.2.2)\n",
            "Note: you may need to restart the kernel to use updated packages.\n",
            "Requirement already satisfied: datasets in d:\\environment\\anacode\\lib\\site-packages (2.18.0)\n",
            "Requirement already satisfied: filelock in d:\\environment\\anacode\\lib\\site-packages (from datasets) (3.13.1)\n",
            "Requirement already satisfied: numpy>=1.17 in d:\\environment\\anacode\\lib\\site-packages (from datasets) (1.26.4)\n",
            "Requirement already satisfied: pyarrow>=12.0.0 in d:\\environment\\anacode\\lib\\site-packages (from datasets) (14.0.2)\n",
            "Requirement already satisfied: pyarrow-hotfix in d:\\environment\\anacode\\lib\\site-packages (from datasets) (0.6)\n",
            "Requirement already satisfied: dill<0.3.9,>=0.3.0 in d:\\environment\\anacode\\lib\\site-packages (from datasets) (0.3.8)\n",
            "Requirement already satisfied: pandas in d:\\environment\\anacode\\lib\\site-packages (from datasets) (2.1.4)\n",
            "Requirement already satisfied: requests>=2.19.0 in d:\\environment\\anacode\\lib\\site-packages (from datasets) (2.31.0)\n",
            "Requirement already satisfied: tqdm>=4.62.1 in d:\\environment\\anacode\\lib\\site-packages (from datasets) (4.65.0)\n",
            "Requirement already satisfied: xxhash in d:\\environment\\anacode\\lib\\site-packages (from datasets) (3.4.1)\n",
            "Requirement already satisfied: multiprocess in d:\\environment\\anacode\\lib\\site-packages (from datasets) (0.70.16)\n",
            "Requirement already satisfied: fsspec<=2024.2.0,>=2023.1.0 in d:\\environment\\anacode\\lib\\site-packages (from fsspec[http]<=2024.2.0,>=2023.1.0->datasets) (2023.10.0)\n",
            "Requirement already satisfied: aiohttp in d:\\environment\\anacode\\lib\\site-packages (from datasets) (3.9.3)\n",
            "Requirement already satisfied: huggingface-hub>=0.19.4 in d:\\environment\\anacode\\lib\\site-packages (from datasets) (0.22.2)\n",
            "Requirement already satisfied: packaging in d:\\environment\\anacode\\lib\\site-packages (from datasets) (23.1)\n",
            "Requirement already satisfied: pyyaml>=5.1 in d:\\environment\\anacode\\lib\\site-packages (from datasets) (6.0.1)\n",
            "Requirement already satisfied: aiosignal>=1.1.2 in d:\\environment\\anacode\\lib\\site-packages (from aiohttp->datasets) (1.2.0)\n",
            "Requirement already satisfied: attrs>=17.3.0 in d:\\environment\\anacode\\lib\\site-packages (from aiohttp->datasets) (23.1.0)\n",
            "Requirement already satisfied: frozenlist>=1.1.1 in d:\\environment\\anacode\\lib\\site-packages (from aiohttp->datasets) (1.4.0)\n",
            "Requirement already satisfied: multidict<7.0,>=4.5 in d:\\environment\\anacode\\lib\\site-packages (from aiohttp->datasets) (6.0.4)\n",
            "Requirement already satisfied: yarl<2.0,>=1.0 in d:\\environment\\anacode\\lib\\site-packages (from aiohttp->datasets) (1.9.3)\n",
            "Requirement already satisfied: typing-extensions>=3.7.4.3 in d:\\environment\\anacode\\lib\\site-packages (from huggingface-hub>=0.19.4->datasets) (4.9.0)\n",
            "Requirement already satisfied: charset-normalizer<4,>=2 in d:\\environment\\anacode\\lib\\site-packages (from requests>=2.19.0->datasets) (2.0.4)\n",
            "Requirement already satisfied: idna<4,>=2.5 in d:\\environment\\anacode\\lib\\site-packages (from requests>=2.19.0->datasets) (3.4)\n",
            "Requirement already satisfied: urllib3<3,>=1.21.1 in d:\\environment\\anacode\\lib\\site-packages (from requests>=2.19.0->datasets) (2.0.7)\n",
            "Requirement already satisfied: certifi>=2017.4.17 in d:\\environment\\anacode\\lib\\site-packages (from requests>=2.19.0->datasets) (2024.2.2)\n",
            "Requirement already satisfied: colorama in d:\\environment\\anacode\\lib\\site-packages (from tqdm>=4.62.1->datasets) (0.4.6)\n",
            "Requirement already satisfied: python-dateutil>=2.8.2 in d:\\environment\\anacode\\lib\\site-packages (from pandas->datasets) (2.8.2)\n",
            "Requirement already satisfied: pytz>=2020.1 in d:\\environment\\anacode\\lib\\site-packages (from pandas->datasets) (2023.3.post1)\n",
            "Requirement already satisfied: tzdata>=2022.1 in d:\\environment\\anacode\\lib\\site-packages (from pandas->datasets) (2023.3)\n",
            "Requirement already satisfied: six>=1.5 in d:\\environment\\anacode\\lib\\site-packages (from python-dateutil>=2.8.2->pandas->datasets) (1.16.0)\n",
            "Note: you may need to restart the kernel to use updated packages.\n",
            "Looking in indexes: https://download.pytorch.org/whl/cu121\n",
            "Requirement already satisfied: torch in d:\\environment\\anacode\\lib\\site-packages (2.2.2+cu121)\n",
            "Requirement already satisfied: torchvision in d:\\environment\\anacode\\lib\\site-packages (0.17.2+cu121)\n",
            "Requirement already satisfied: torchaudio in d:\\environment\\anacode\\lib\\site-packages (2.2.2+cu121)\n",
            "Requirement already satisfied: filelock in d:\\environment\\anacode\\lib\\site-packages (from torch) (3.13.1)\n",
            "Requirement already satisfied: typing-extensions>=4.8.0 in d:\\environment\\anacode\\lib\\site-packages (from torch) (4.9.0)\n",
            "Requirement already satisfied: sympy in d:\\environment\\anacode\\lib\\site-packages (from torch) (1.12)\n",
            "Requirement already satisfied: networkx in d:\\environment\\anacode\\lib\\site-packages (from torch) (3.1)\n",
            "Requirement already satisfied: jinja2 in d:\\environment\\anacode\\lib\\site-packages (from torch) (3.1.3)\n",
            "Requirement already satisfied: fsspec in d:\\environment\\anacode\\lib\\site-packages (from torch) (2023.10.0)\n",
            "Requirement already satisfied: numpy in d:\\environment\\anacode\\lib\\site-packages (from torchvision) (1.26.4)\n",
            "Requirement already satisfied: pillow!=8.3.*,>=5.3.0 in d:\\environment\\anacode\\lib\\site-packages (from torchvision) (10.2.0)\n",
            "Requirement already satisfied: MarkupSafe>=2.0 in d:\\environment\\anacode\\lib\\site-packages (from jinja2->torch) (2.1.3)\n",
            "Requirement already satisfied: mpmath>=0.19 in d:\\environment\\anacode\\lib\\site-packages (from sympy->torch) (1.3.0)\n",
            "Note: you may need to restart the kernel to use updated packages.\n"
          ]
        }
      ],
      "source": [
        "%pip install transformers"
      ]
    },
    {
      "cell_type": "markdown",
      "metadata": {
        "id": "_Sa0DR0pA8uf"
      },
      "source": [
        "2. Dataset defined"
      ]
    },
    {
      "cell_type": "code",
      "execution_count": 13,
      "metadata": {
        "colab": {
          "base_uri": "https://localhost:8080/"
        },
        "id": "tbu5QEAEB6xg",
        "outputId": "3228e4ea-e570-458f-a89e-e8b123348a35"
      },
      "outputs": [
        {
          "name": "stdout",
          "output_type": "stream",
          "text": [
            "118 15 15\n"
          ]
        },
        {
          "name": "stderr",
          "output_type": "stream",
          "text": [
            "d:\\Environment\\Anacode\\Lib\\site-packages\\numpy\\core\\fromnumeric.py:59: FutureWarning: 'DataFrame.swapaxes' is deprecated and will be removed in a future version. Please use 'DataFrame.transpose' instead.\n",
            "  return bound(*args, **kwds)\n"
          ]
        }
      ],
      "source": [
        "from transformers import AutoTokenizer, AutoModelForSequenceClassification, BertTokenizer\n",
        "from datasets import load_dataset\n",
        "from torch.utils.data import DataLoader\n",
        "import torch\n",
        "import numpy as np\n",
        "\n",
        "tokenizer = BertTokenizer.from_pretrained('bert-base-cased')\n",
        "labels = {'open a file':0,\n",
        "      'ocr a file':1,\n",
        "      'open any RSS feed':2,\n",
        "      'search a book':3,\n",
        "      'tts a file':4\n",
        "      }\n",
        "\n",
        "class Dataset(torch.utils.data.Dataset):\n",
        "    def __init__(self, df):\n",
        "        self.labels = [labels[label] for label in df['Category']]\n",
        "        self.texts = [tokenizer(text, padding='max_length', max_length = 512, truncation=True, return_tensors=\"pt\")\n",
        "                for text in df['Text']]\n",
        "\n",
        "    def classes(self):\n",
        "        return self.labels\n",
        "\n",
        "    def __len__(self):\n",
        "        return len(self.labels)\n",
        "\n",
        "    def get_batch_labels(self, idx):\n",
        "        return np.array(self.labels[idx])\n",
        "\n",
        "    def get_batch_texts(self, idx):\n",
        "        return self.texts[idx]\n",
        "\n",
        "    def __getitem__(self, idx):\n",
        "        batch_texts = self.get_batch_texts(idx)\n",
        "        batch_y = self.get_batch_labels(idx)\n",
        "        return batch_texts, batch_y\n",
        "\n",
        "\n",
        "import pandas as pd\n",
        "text_df = pd.read_csv('./datasets.csv')\n",
        "df = pd.DataFrame(text_df)\n",
        "\n",
        "np.random.seed(112)\n",
        "df_train, df_val, df_test = np.split(df.sample(frac=1, random_state=42), [int(.8*len(df)), int(.9*len(df))])\n",
        "print(len(df_train),len(df_val), len(df_test))\n"
      ]
    },
    {
      "cell_type": "markdown",
      "metadata": {
        "id": "gj7xL53baJIm"
      },
      "source": [
        "3. Modelling"
      ]
    },
    {
      "cell_type": "code",
      "execution_count": 2,
      "metadata": {
        "id": "IYu7vkMwaTEJ"
      },
      "outputs": [],
      "source": [
        "from torch import nn\n",
        "from transformers import BertModel\n",
        "\n",
        "class BertClassifier(nn.Module):\n",
        "    def __init__(self, dropout=0.5):\n",
        "        super(BertClassifier, self).__init__()\n",
        "        self.bert = BertModel.from_pretrained('bert-base-cased')\n",
        "        self.dropout = nn.Dropout(dropout)\n",
        "        self.linear = nn.Linear(768, 5)\n",
        "        self.relu = nn.ReLU()\n",
        "\n",
        "    def forward(self, input_id, mask):\n",
        "        _, pooled_output = self.bert(input_ids= input_id, attention_mask=mask,return_dict=False)\n",
        "        dropout_output = self.dropout(pooled_output)\n",
        "        linear_output = self.linear(dropout_output)\n",
        "        final_layer = self.relu(linear_output)\n",
        "        return final_layer"
      ]
    },
    {
      "cell_type": "code",
      "execution_count": 4,
      "metadata": {},
      "outputs": [
        {
          "name": "stdout",
          "output_type": "stream",
          "text": [
            "True\n"
          ]
        }
      ],
      "source": [
        "import torch\n",
        "print (torch.cuda.is_available())"
      ]
    },
    {
      "cell_type": "markdown",
      "metadata": {
        "id": "RQY8sAgAagFF"
      },
      "source": [
        " 4. Training Models"
      ]
    },
    {
      "cell_type": "code",
      "execution_count": 15,
      "metadata": {
        "id": "erMCHXE_ajtU"
      },
      "outputs": [],
      "source": [
        "from torch.optim import Adam\n",
        "from tqdm import tqdm\n",
        "\n",
        "def train(model, train_data, val_data, learning_rate, epochs):\n",
        "    train, val = Dataset(train_data), Dataset(val_data)\n",
        "    train_dataloader = torch.utils.data.DataLoader(train, batch_size=2, shuffle=True)\n",
        "    val_dataloader = torch.utils.data.DataLoader(val, batch_size=2)\n",
        "\n",
        "    device = torch.device(\"cuda\" if torch.cuda.is_available() else \"cpu\")\n",
        "    criterion = nn.CrossEntropyLoss()\n",
        "    optimizer = Adam(model.parameters(), lr=learning_rate)\n",
        "\n",
        "    if torch.cuda.is_available():\n",
        "            model = model.cuda()\n",
        "            criterion = criterion.cuda()\n",
        "    for epoch_num in range(epochs):\n",
        "            total_acc_train = 0\n",
        "            total_loss_train = 0\n",
        "            for train_input, train_label in tqdm(train_dataloader):\n",
        "\n",
        "                train_label = train_label.to(device)\n",
        "                mask = train_input['attention_mask'].to(device)\n",
        "                input_id = train_input['input_ids'].squeeze(1).to(device)\n",
        "                output = model(input_id, mask)\n",
        "                batch_loss = criterion(output, train_label.long())\n",
        "                total_loss_train += batch_loss.item()\n",
        "                acc = (output.argmax(dim=1) == train_label).sum().item()\n",
        "                total_acc_train += acc\n",
        "                model.zero_grad()\n",
        "                batch_loss.backward()\n",
        "                optimizer.step()\n",
        "            \n",
        "            total_acc_val = 0\n",
        "            total_loss_val = 0\n",
        "            with torch.no_grad():\n",
        "                for val_input, val_label in val_dataloader:\n",
        "                    val_label = val_label.to(device)\n",
        "                    mask = val_input['attention_mask'].to(device)\n",
        "                    input_id = val_input['input_ids'].squeeze(1).to(device)\n",
        "\n",
        "                    output = model(input_id, mask)\n",
        "\n",
        "                    batch_loss = criterion(output, val_label.long())\n",
        "                    total_loss_val += batch_loss.item()\n",
        "\n",
        "                    acc = (output.argmax(dim=1) == val_label).sum().item()\n",
        "                    total_acc_val += acc\n",
        "\n",
        "            print(\n",
        "                f'''Epochs: {epoch_num + 1}\n",
        "              | Train Loss: {total_loss_train / len(train_data): .3f}\n",
        "              | Train Accuracy: {total_acc_train / len(train_data): .3f}\n",
        "              | Val Loss: {total_loss_val / len(val_data): .3f}\n",
        "              | Val Accuracy: {total_acc_val / len(val_data): .3f}''')"
      ]
    },
    {
      "cell_type": "code",
      "execution_count": 16,
      "metadata": {
        "colab": {
          "base_uri": "https://localhost:8080/"
        },
        "id": "TcGQsivMa4r_",
        "outputId": "dc750c9f-47eb-4b55-ed22-034e95b926f5"
      },
      "outputs": [
        {
          "name": "stderr",
          "output_type": "stream",
          "text": [
            "100%|██████████| 59/59 [00:07<00:00,  7.38it/s]\n"
          ]
        },
        {
          "name": "stdout",
          "output_type": "stream",
          "text": [
            "Epochs: 1\n",
            "              | Train Loss:  0.828\n",
            "              | Train Accuracy:  0.178\n",
            "              | Val Loss:  0.895\n",
            "              | Val Accuracy:  0.067\n"
          ]
        },
        {
          "name": "stderr",
          "output_type": "stream",
          "text": [
            "100%|██████████| 59/59 [00:07<00:00,  7.56it/s]\n"
          ]
        },
        {
          "name": "stdout",
          "output_type": "stream",
          "text": [
            "Epochs: 2\n",
            "              | Train Loss:  0.790\n",
            "              | Train Accuracy:  0.297\n",
            "              | Val Loss:  0.887\n",
            "              | Val Accuracy:  0.200\n"
          ]
        },
        {
          "name": "stderr",
          "output_type": "stream",
          "text": [
            "100%|██████████| 59/59 [00:07<00:00,  7.55it/s]\n"
          ]
        },
        {
          "name": "stdout",
          "output_type": "stream",
          "text": [
            "Epochs: 3\n",
            "              | Train Loss:  0.804\n",
            "              | Train Accuracy:  0.254\n",
            "              | Val Loss:  0.828\n",
            "              | Val Accuracy:  0.333\n"
          ]
        },
        {
          "name": "stderr",
          "output_type": "stream",
          "text": [
            "100%|██████████| 59/59 [00:07<00:00,  7.58it/s]\n"
          ]
        },
        {
          "name": "stdout",
          "output_type": "stream",
          "text": [
            "Epochs: 4\n",
            "              | Train Loss:  0.807\n",
            "              | Train Accuracy:  0.254\n",
            "              | Val Loss:  0.865\n",
            "              | Val Accuracy:  0.200\n"
          ]
        },
        {
          "name": "stderr",
          "output_type": "stream",
          "text": [
            "100%|██████████| 59/59 [00:07<00:00,  7.55it/s]\n"
          ]
        },
        {
          "name": "stdout",
          "output_type": "stream",
          "text": [
            "Epochs: 5\n",
            "              | Train Loss:  0.799\n",
            "              | Train Accuracy:  0.322\n",
            "              | Val Loss:  0.852\n",
            "              | Val Accuracy:  0.267\n"
          ]
        },
        {
          "name": "stderr",
          "output_type": "stream",
          "text": [
            "100%|██████████| 59/59 [00:07<00:00,  7.54it/s]\n"
          ]
        },
        {
          "name": "stdout",
          "output_type": "stream",
          "text": [
            "Epochs: 6\n",
            "              | Train Loss:  0.807\n",
            "              | Train Accuracy:  0.246\n",
            "              | Val Loss:  0.893\n",
            "              | Val Accuracy:  0.000\n"
          ]
        },
        {
          "name": "stderr",
          "output_type": "stream",
          "text": [
            "100%|██████████| 59/59 [00:07<00:00,  7.54it/s]\n"
          ]
        },
        {
          "name": "stdout",
          "output_type": "stream",
          "text": [
            "Epochs: 7\n",
            "              | Train Loss:  0.774\n",
            "              | Train Accuracy:  0.364\n",
            "              | Val Loss:  0.880\n",
            "              | Val Accuracy:  0.267\n"
          ]
        },
        {
          "name": "stderr",
          "output_type": "stream",
          "text": [
            "100%|██████████| 59/59 [00:07<00:00,  7.59it/s]\n"
          ]
        },
        {
          "name": "stdout",
          "output_type": "stream",
          "text": [
            "Epochs: 8\n",
            "              | Train Loss:  0.769\n",
            "              | Train Accuracy:  0.347\n",
            "              | Val Loss:  0.747\n",
            "              | Val Accuracy:  0.467\n"
          ]
        },
        {
          "name": "stderr",
          "output_type": "stream",
          "text": [
            "100%|██████████| 59/59 [00:07<00:00,  7.54it/s]\n"
          ]
        },
        {
          "name": "stdout",
          "output_type": "stream",
          "text": [
            "Epochs: 9\n",
            "              | Train Loss:  0.756\n",
            "              | Train Accuracy:  0.398\n",
            "              | Val Loss:  0.783\n",
            "              | Val Accuracy:  0.533\n"
          ]
        },
        {
          "name": "stderr",
          "output_type": "stream",
          "text": [
            "100%|██████████| 59/59 [00:07<00:00,  7.54it/s]\n"
          ]
        },
        {
          "name": "stdout",
          "output_type": "stream",
          "text": [
            "Epochs: 10\n",
            "              | Train Loss:  0.724\n",
            "              | Train Accuracy:  0.525\n",
            "              | Val Loss:  0.776\n",
            "              | Val Accuracy:  0.333\n"
          ]
        },
        {
          "name": "stderr",
          "output_type": "stream",
          "text": [
            "100%|██████████| 59/59 [00:07<00:00,  7.54it/s]\n"
          ]
        },
        {
          "name": "stdout",
          "output_type": "stream",
          "text": [
            "Epochs: 11\n",
            "              | Train Loss:  0.686\n",
            "              | Train Accuracy:  0.483\n",
            "              | Val Loss:  0.705\n",
            "              | Val Accuracy:  0.467\n"
          ]
        },
        {
          "name": "stderr",
          "output_type": "stream",
          "text": [
            "100%|██████████| 59/59 [00:07<00:00,  7.54it/s]\n"
          ]
        },
        {
          "name": "stdout",
          "output_type": "stream",
          "text": [
            "Epochs: 12\n",
            "              | Train Loss:  0.637\n",
            "              | Train Accuracy:  0.585\n",
            "              | Val Loss:  0.721\n",
            "              | Val Accuracy:  0.533\n"
          ]
        },
        {
          "name": "stderr",
          "output_type": "stream",
          "text": [
            "100%|██████████| 59/59 [00:07<00:00,  7.53it/s]\n"
          ]
        },
        {
          "name": "stdout",
          "output_type": "stream",
          "text": [
            "Epochs: 13\n",
            "              | Train Loss:  0.604\n",
            "              | Train Accuracy:  0.568\n",
            "              | Val Loss:  0.657\n",
            "              | Val Accuracy:  0.600\n"
          ]
        },
        {
          "name": "stderr",
          "output_type": "stream",
          "text": [
            "100%|██████████| 59/59 [00:07<00:00,  7.54it/s]\n"
          ]
        },
        {
          "name": "stdout",
          "output_type": "stream",
          "text": [
            "Epochs: 14\n",
            "              | Train Loss:  0.535\n",
            "              | Train Accuracy:  0.644\n",
            "              | Val Loss:  0.669\n",
            "              | Val Accuracy:  0.467\n"
          ]
        },
        {
          "name": "stderr",
          "output_type": "stream",
          "text": [
            "100%|██████████| 59/59 [00:07<00:00,  7.54it/s]\n"
          ]
        },
        {
          "name": "stdout",
          "output_type": "stream",
          "text": [
            "Epochs: 15\n",
            "              | Train Loss:  0.476\n",
            "              | Train Accuracy:  0.712\n",
            "              | Val Loss:  0.609\n",
            "              | Val Accuracy:  0.533\n"
          ]
        },
        {
          "name": "stderr",
          "output_type": "stream",
          "text": [
            "100%|██████████| 59/59 [00:07<00:00,  7.53it/s]\n"
          ]
        },
        {
          "name": "stdout",
          "output_type": "stream",
          "text": [
            "Epochs: 16\n",
            "              | Train Loss:  0.457\n",
            "              | Train Accuracy:  0.695\n",
            "              | Val Loss:  0.532\n",
            "              | Val Accuracy:  0.733\n"
          ]
        },
        {
          "name": "stderr",
          "output_type": "stream",
          "text": [
            "100%|██████████| 59/59 [00:07<00:00,  7.54it/s]\n"
          ]
        },
        {
          "name": "stdout",
          "output_type": "stream",
          "text": [
            "Epochs: 17\n",
            "              | Train Loss:  0.427\n",
            "              | Train Accuracy:  0.729\n",
            "              | Val Loss:  0.502\n",
            "              | Val Accuracy:  0.667\n"
          ]
        },
        {
          "name": "stderr",
          "output_type": "stream",
          "text": [
            "100%|██████████| 59/59 [00:07<00:00,  7.54it/s]\n"
          ]
        },
        {
          "name": "stdout",
          "output_type": "stream",
          "text": [
            "Epochs: 18\n",
            "              | Train Loss:  0.394\n",
            "              | Train Accuracy:  0.805\n",
            "              | Val Loss:  0.437\n",
            "              | Val Accuracy:  0.800\n"
          ]
        },
        {
          "name": "stderr",
          "output_type": "stream",
          "text": [
            "100%|██████████| 59/59 [00:07<00:00,  7.54it/s]\n"
          ]
        },
        {
          "name": "stdout",
          "output_type": "stream",
          "text": [
            "Epochs: 19\n",
            "              | Train Loss:  0.360\n",
            "              | Train Accuracy:  0.814\n",
            "              | Val Loss:  0.402\n",
            "              | Val Accuracy:  0.733\n"
          ]
        },
        {
          "name": "stderr",
          "output_type": "stream",
          "text": [
            "100%|██████████| 59/59 [00:07<00:00,  7.54it/s]\n"
          ]
        },
        {
          "name": "stdout",
          "output_type": "stream",
          "text": [
            "Epochs: 20\n",
            "              | Train Loss:  0.325\n",
            "              | Train Accuracy:  0.822\n",
            "              | Val Loss:  0.414\n",
            "              | Val Accuracy:  0.867\n"
          ]
        },
        {
          "name": "stderr",
          "output_type": "stream",
          "text": [
            "100%|██████████| 59/59 [00:07<00:00,  7.54it/s]\n"
          ]
        },
        {
          "name": "stdout",
          "output_type": "stream",
          "text": [
            "Epochs: 21\n",
            "              | Train Loss:  0.303\n",
            "              | Train Accuracy:  0.839\n",
            "              | Val Loss:  0.378\n",
            "              | Val Accuracy:  0.800\n"
          ]
        },
        {
          "name": "stderr",
          "output_type": "stream",
          "text": [
            "100%|██████████| 59/59 [00:07<00:00,  7.54it/s]\n"
          ]
        },
        {
          "name": "stdout",
          "output_type": "stream",
          "text": [
            "Epochs: 22\n",
            "              | Train Loss:  0.270\n",
            "              | Train Accuracy:  0.864\n",
            "              | Val Loss:  0.334\n",
            "              | Val Accuracy:  0.867\n"
          ]
        },
        {
          "name": "stderr",
          "output_type": "stream",
          "text": [
            "100%|██████████| 59/59 [00:07<00:00,  7.53it/s]\n"
          ]
        },
        {
          "name": "stdout",
          "output_type": "stream",
          "text": [
            "Epochs: 23\n",
            "              | Train Loss:  0.257\n",
            "              | Train Accuracy:  0.873\n",
            "              | Val Loss:  0.276\n",
            "              | Val Accuracy:  0.800\n"
          ]
        },
        {
          "name": "stderr",
          "output_type": "stream",
          "text": [
            "100%|██████████| 59/59 [00:07<00:00,  7.53it/s]\n"
          ]
        },
        {
          "name": "stdout",
          "output_type": "stream",
          "text": [
            "Epochs: 24\n",
            "              | Train Loss:  0.237\n",
            "              | Train Accuracy:  0.873\n",
            "              | Val Loss:  0.306\n",
            "              | Val Accuracy:  0.800\n"
          ]
        },
        {
          "name": "stderr",
          "output_type": "stream",
          "text": [
            "100%|██████████| 59/59 [00:07<00:00,  7.54it/s]\n"
          ]
        },
        {
          "name": "stdout",
          "output_type": "stream",
          "text": [
            "Epochs: 25\n",
            "              | Train Loss:  0.228\n",
            "              | Train Accuracy:  0.890\n",
            "              | Val Loss:  0.314\n",
            "              | Val Accuracy:  0.800\n"
          ]
        },
        {
          "name": "stderr",
          "output_type": "stream",
          "text": [
            "100%|██████████| 59/59 [00:08<00:00,  7.36it/s]\n"
          ]
        },
        {
          "name": "stdout",
          "output_type": "stream",
          "text": [
            "Epochs: 26\n",
            "              | Train Loss:  0.199\n",
            "              | Train Accuracy:  0.907\n",
            "              | Val Loss:  0.282\n",
            "              | Val Accuracy:  0.867\n"
          ]
        },
        {
          "name": "stderr",
          "output_type": "stream",
          "text": [
            "100%|██████████| 59/59 [00:07<00:00,  7.39it/s]\n"
          ]
        },
        {
          "name": "stdout",
          "output_type": "stream",
          "text": [
            "Epochs: 27\n",
            "              | Train Loss:  0.191\n",
            "              | Train Accuracy:  0.907\n",
            "              | Val Loss:  0.230\n",
            "              | Val Accuracy:  0.933\n"
          ]
        },
        {
          "name": "stderr",
          "output_type": "stream",
          "text": [
            "100%|██████████| 59/59 [00:07<00:00,  7.53it/s]\n"
          ]
        },
        {
          "name": "stdout",
          "output_type": "stream",
          "text": [
            "Epochs: 28\n",
            "              | Train Loss:  0.179\n",
            "              | Train Accuracy:  0.924\n",
            "              | Val Loss:  0.243\n",
            "              | Val Accuracy:  0.933\n"
          ]
        },
        {
          "name": "stderr",
          "output_type": "stream",
          "text": [
            "100%|██████████| 59/59 [00:07<00:00,  7.56it/s]\n"
          ]
        },
        {
          "name": "stdout",
          "output_type": "stream",
          "text": [
            "Epochs: 29\n",
            "              | Train Loss:  0.170\n",
            "              | Train Accuracy:  0.924\n",
            "              | Val Loss:  0.213\n",
            "              | Val Accuracy:  0.867\n"
          ]
        },
        {
          "name": "stderr",
          "output_type": "stream",
          "text": [
            "100%|██████████| 59/59 [00:07<00:00,  7.55it/s]\n"
          ]
        },
        {
          "name": "stdout",
          "output_type": "stream",
          "text": [
            "Epochs: 30\n",
            "              | Train Loss:  0.148\n",
            "              | Train Accuracy:  0.966\n",
            "              | Val Loss:  0.200\n",
            "              | Val Accuracy:  0.933\n"
          ]
        },
        {
          "name": "stderr",
          "output_type": "stream",
          "text": [
            "100%|██████████| 59/59 [00:07<00:00,  7.55it/s]\n"
          ]
        },
        {
          "name": "stdout",
          "output_type": "stream",
          "text": [
            "Epochs: 31\n",
            "              | Train Loss:  0.146\n",
            "              | Train Accuracy:  0.958\n",
            "              | Val Loss:  0.187\n",
            "              | Val Accuracy:  0.933\n"
          ]
        },
        {
          "name": "stderr",
          "output_type": "stream",
          "text": [
            "100%|██████████| 59/59 [00:07<00:00,  7.43it/s]\n"
          ]
        },
        {
          "name": "stdout",
          "output_type": "stream",
          "text": [
            "Epochs: 32\n",
            "              | Train Loss:  0.133\n",
            "              | Train Accuracy:  0.975\n",
            "              | Val Loss:  0.191\n",
            "              | Val Accuracy:  0.933\n"
          ]
        },
        {
          "name": "stderr",
          "output_type": "stream",
          "text": [
            "100%|██████████| 59/59 [00:07<00:00,  7.45it/s]\n"
          ]
        },
        {
          "name": "stdout",
          "output_type": "stream",
          "text": [
            "Epochs: 33\n",
            "              | Train Loss:  0.125\n",
            "              | Train Accuracy:  0.992\n",
            "              | Val Loss:  0.198\n",
            "              | Val Accuracy:  0.933\n"
          ]
        },
        {
          "name": "stderr",
          "output_type": "stream",
          "text": [
            "100%|██████████| 59/59 [00:07<00:00,  7.54it/s]\n"
          ]
        },
        {
          "name": "stdout",
          "output_type": "stream",
          "text": [
            "Epochs: 34\n",
            "              | Train Loss:  0.123\n",
            "              | Train Accuracy:  0.966\n",
            "              | Val Loss:  0.167\n",
            "              | Val Accuracy:  0.933\n"
          ]
        },
        {
          "name": "stderr",
          "output_type": "stream",
          "text": [
            "100%|██████████| 59/59 [00:07<00:00,  7.50it/s]\n"
          ]
        },
        {
          "name": "stdout",
          "output_type": "stream",
          "text": [
            "Epochs: 35\n",
            "              | Train Loss:  0.121\n",
            "              | Train Accuracy:  0.975\n",
            "              | Val Loss:  0.149\n",
            "              | Val Accuracy:  1.000\n"
          ]
        },
        {
          "name": "stderr",
          "output_type": "stream",
          "text": [
            "100%|██████████| 59/59 [00:07<00:00,  7.68it/s]\n"
          ]
        },
        {
          "name": "stdout",
          "output_type": "stream",
          "text": [
            "Epochs: 36\n",
            "              | Train Loss:  0.096\n",
            "              | Train Accuracy:  1.000\n",
            "              | Val Loss:  0.114\n",
            "              | Val Accuracy:  1.000\n"
          ]
        },
        {
          "name": "stderr",
          "output_type": "stream",
          "text": [
            "100%|██████████| 59/59 [00:07<00:00,  7.68it/s]\n"
          ]
        },
        {
          "name": "stdout",
          "output_type": "stream",
          "text": [
            "Epochs: 37\n",
            "              | Train Loss:  0.091\n",
            "              | Train Accuracy:  1.000\n",
            "              | Val Loss:  0.134\n",
            "              | Val Accuracy:  1.000\n"
          ]
        },
        {
          "name": "stderr",
          "output_type": "stream",
          "text": [
            "100%|██████████| 59/59 [00:07<00:00,  7.72it/s]\n"
          ]
        },
        {
          "name": "stdout",
          "output_type": "stream",
          "text": [
            "Epochs: 38\n",
            "              | Train Loss:  0.075\n",
            "              | Train Accuracy:  1.000\n",
            "              | Val Loss:  0.114\n",
            "              | Val Accuracy:  1.000\n"
          ]
        },
        {
          "name": "stderr",
          "output_type": "stream",
          "text": [
            "100%|██████████| 59/59 [00:07<00:00,  7.72it/s]\n"
          ]
        },
        {
          "name": "stdout",
          "output_type": "stream",
          "text": [
            "Epochs: 39\n",
            "              | Train Loss:  0.074\n",
            "              | Train Accuracy:  1.000\n",
            "              | Val Loss:  0.113\n",
            "              | Val Accuracy:  1.000\n"
          ]
        },
        {
          "name": "stderr",
          "output_type": "stream",
          "text": [
            "100%|██████████| 59/59 [00:07<00:00,  7.69it/s]\n"
          ]
        },
        {
          "name": "stdout",
          "output_type": "stream",
          "text": [
            "Epochs: 40\n",
            "              | Train Loss:  0.063\n",
            "              | Train Accuracy:  1.000\n",
            "              | Val Loss:  0.096\n",
            "              | Val Accuracy:  1.000\n"
          ]
        },
        {
          "name": "stderr",
          "output_type": "stream",
          "text": [
            "100%|██████████| 59/59 [00:07<00:00,  7.71it/s]\n"
          ]
        },
        {
          "name": "stdout",
          "output_type": "stream",
          "text": [
            "Epochs: 41\n",
            "              | Train Loss:  0.060\n",
            "              | Train Accuracy:  1.000\n",
            "              | Val Loss:  0.095\n",
            "              | Val Accuracy:  1.000\n"
          ]
        },
        {
          "name": "stderr",
          "output_type": "stream",
          "text": [
            "100%|██████████| 59/59 [00:07<00:00,  7.71it/s]\n"
          ]
        },
        {
          "name": "stdout",
          "output_type": "stream",
          "text": [
            "Epochs: 42\n",
            "              | Train Loss:  0.065\n",
            "              | Train Accuracy:  1.000\n",
            "              | Val Loss:  0.089\n",
            "              | Val Accuracy:  1.000\n"
          ]
        },
        {
          "name": "stderr",
          "output_type": "stream",
          "text": [
            "100%|██████████| 59/59 [00:07<00:00,  7.71it/s]\n"
          ]
        },
        {
          "name": "stdout",
          "output_type": "stream",
          "text": [
            "Epochs: 43\n",
            "              | Train Loss:  0.057\n",
            "              | Train Accuracy:  1.000\n",
            "              | Val Loss:  0.097\n",
            "              | Val Accuracy:  1.000\n"
          ]
        },
        {
          "name": "stderr",
          "output_type": "stream",
          "text": [
            "100%|██████████| 59/59 [00:07<00:00,  7.71it/s]\n"
          ]
        },
        {
          "name": "stdout",
          "output_type": "stream",
          "text": [
            "Epochs: 44\n",
            "              | Train Loss:  0.053\n",
            "              | Train Accuracy:  1.000\n",
            "              | Val Loss:  0.085\n",
            "              | Val Accuracy:  1.000\n"
          ]
        },
        {
          "name": "stderr",
          "output_type": "stream",
          "text": [
            "100%|██████████| 59/59 [00:07<00:00,  7.70it/s]\n"
          ]
        },
        {
          "name": "stdout",
          "output_type": "stream",
          "text": [
            "Epochs: 45\n",
            "              | Train Loss:  0.049\n",
            "              | Train Accuracy:  1.000\n",
            "              | Val Loss:  0.084\n",
            "              | Val Accuracy:  1.000\n"
          ]
        },
        {
          "name": "stderr",
          "output_type": "stream",
          "text": [
            "100%|██████████| 59/59 [00:07<00:00,  7.72it/s]\n"
          ]
        },
        {
          "name": "stdout",
          "output_type": "stream",
          "text": [
            "Epochs: 46\n",
            "              | Train Loss:  0.043\n",
            "              | Train Accuracy:  1.000\n",
            "              | Val Loss:  0.071\n",
            "              | Val Accuracy:  1.000\n"
          ]
        },
        {
          "name": "stderr",
          "output_type": "stream",
          "text": [
            "100%|██████████| 59/59 [00:07<00:00,  7.72it/s]\n"
          ]
        },
        {
          "name": "stdout",
          "output_type": "stream",
          "text": [
            "Epochs: 47\n",
            "              | Train Loss:  0.044\n",
            "              | Train Accuracy:  1.000\n",
            "              | Val Loss:  0.084\n",
            "              | Val Accuracy:  1.000\n"
          ]
        },
        {
          "name": "stderr",
          "output_type": "stream",
          "text": [
            "100%|██████████| 59/59 [00:07<00:00,  7.71it/s]\n"
          ]
        },
        {
          "name": "stdout",
          "output_type": "stream",
          "text": [
            "Epochs: 48\n",
            "              | Train Loss:  0.040\n",
            "              | Train Accuracy:  1.000\n",
            "              | Val Loss:  0.065\n",
            "              | Val Accuracy:  1.000\n"
          ]
        },
        {
          "name": "stderr",
          "output_type": "stream",
          "text": [
            "100%|██████████| 59/59 [00:07<00:00,  7.73it/s]\n"
          ]
        },
        {
          "name": "stdout",
          "output_type": "stream",
          "text": [
            "Epochs: 49\n",
            "              | Train Loss:  0.036\n",
            "              | Train Accuracy:  1.000\n",
            "              | Val Loss:  0.055\n",
            "              | Val Accuracy:  1.000\n"
          ]
        },
        {
          "name": "stderr",
          "output_type": "stream",
          "text": [
            "100%|██████████| 59/59 [00:07<00:00,  7.72it/s]\n"
          ]
        },
        {
          "name": "stdout",
          "output_type": "stream",
          "text": [
            "Epochs: 50\n",
            "              | Train Loss:  0.036\n",
            "              | Train Accuracy:  1.000\n",
            "              | Val Loss:  0.055\n",
            "              | Val Accuracy:  1.000\n"
          ]
        },
        {
          "name": "stderr",
          "output_type": "stream",
          "text": [
            "100%|██████████| 59/59 [00:07<00:00,  7.72it/s]\n"
          ]
        },
        {
          "name": "stdout",
          "output_type": "stream",
          "text": [
            "Epochs: 51\n",
            "              | Train Loss:  0.033\n",
            "              | Train Accuracy:  1.000\n",
            "              | Val Loss:  0.050\n",
            "              | Val Accuracy:  1.000\n"
          ]
        },
        {
          "name": "stderr",
          "output_type": "stream",
          "text": [
            "100%|██████████| 59/59 [00:07<00:00,  7.55it/s]\n"
          ]
        },
        {
          "name": "stdout",
          "output_type": "stream",
          "text": [
            "Epochs: 52\n",
            "              | Train Loss:  0.032\n",
            "              | Train Accuracy:  1.000\n",
            "              | Val Loss:  0.043\n",
            "              | Val Accuracy:  1.000\n"
          ]
        },
        {
          "name": "stderr",
          "output_type": "stream",
          "text": [
            "100%|██████████| 59/59 [00:07<00:00,  7.58it/s]\n"
          ]
        },
        {
          "name": "stdout",
          "output_type": "stream",
          "text": [
            "Epochs: 53\n",
            "              | Train Loss:  0.030\n",
            "              | Train Accuracy:  1.000\n",
            "              | Val Loss:  0.051\n",
            "              | Val Accuracy:  1.000\n"
          ]
        },
        {
          "name": "stderr",
          "output_type": "stream",
          "text": [
            "100%|██████████| 59/59 [00:07<00:00,  7.70it/s]\n"
          ]
        },
        {
          "name": "stdout",
          "output_type": "stream",
          "text": [
            "Epochs: 54\n",
            "              | Train Loss:  0.027\n",
            "              | Train Accuracy:  1.000\n",
            "              | Val Loss:  0.045\n",
            "              | Val Accuracy:  1.000\n"
          ]
        },
        {
          "name": "stderr",
          "output_type": "stream",
          "text": [
            "100%|██████████| 59/59 [00:07<00:00,  7.68it/s]\n"
          ]
        },
        {
          "name": "stdout",
          "output_type": "stream",
          "text": [
            "Epochs: 55\n",
            "              | Train Loss:  0.026\n",
            "              | Train Accuracy:  1.000\n",
            "              | Val Loss:  0.043\n",
            "              | Val Accuracy:  1.000\n"
          ]
        },
        {
          "name": "stderr",
          "output_type": "stream",
          "text": [
            "100%|██████████| 59/59 [00:07<00:00,  7.67it/s]\n"
          ]
        },
        {
          "name": "stdout",
          "output_type": "stream",
          "text": [
            "Epochs: 56\n",
            "              | Train Loss:  0.025\n",
            "              | Train Accuracy:  1.000\n",
            "              | Val Loss:  0.038\n",
            "              | Val Accuracy:  1.000\n"
          ]
        },
        {
          "name": "stderr",
          "output_type": "stream",
          "text": [
            "100%|██████████| 59/59 [00:07<00:00,  7.67it/s]\n"
          ]
        },
        {
          "name": "stdout",
          "output_type": "stream",
          "text": [
            "Epochs: 57\n",
            "              | Train Loss:  0.023\n",
            "              | Train Accuracy:  1.000\n",
            "              | Val Loss:  0.041\n",
            "              | Val Accuracy:  1.000\n"
          ]
        },
        {
          "name": "stderr",
          "output_type": "stream",
          "text": [
            "100%|██████████| 59/59 [00:07<00:00,  7.69it/s]\n"
          ]
        },
        {
          "name": "stdout",
          "output_type": "stream",
          "text": [
            "Epochs: 58\n",
            "              | Train Loss:  0.024\n",
            "              | Train Accuracy:  1.000\n",
            "              | Val Loss:  0.040\n",
            "              | Val Accuracy:  1.000\n"
          ]
        },
        {
          "name": "stderr",
          "output_type": "stream",
          "text": [
            "100%|██████████| 59/59 [00:07<00:00,  7.67it/s]\n"
          ]
        },
        {
          "name": "stdout",
          "output_type": "stream",
          "text": [
            "Epochs: 59\n",
            "              | Train Loss:  0.024\n",
            "              | Train Accuracy:  1.000\n",
            "              | Val Loss:  0.047\n",
            "              | Val Accuracy:  1.000\n"
          ]
        },
        {
          "name": "stderr",
          "output_type": "stream",
          "text": [
            "100%|██████████| 59/59 [00:07<00:00,  7.67it/s]\n"
          ]
        },
        {
          "name": "stdout",
          "output_type": "stream",
          "text": [
            "Epochs: 60\n",
            "              | Train Loss:  0.020\n",
            "              | Train Accuracy:  1.000\n",
            "              | Val Loss:  0.042\n",
            "              | Val Accuracy:  1.000\n"
          ]
        }
      ],
      "source": [
        "EPOCHS = 60\n",
        "model = BertClassifier()\n",
        "LR = 1e-6\n",
        "train(model, df_train, df_val, LR, EPOCHS)\n",
        "# Save models\n",
        "torch.save(model, 'classifier.pth')"
      ]
    },
    {
      "cell_type": "markdown",
      "metadata": {
        "id": "DKOnTrShbPC2"
      },
      "source": [
        "5. Evaluation"
      ]
    },
    {
      "cell_type": "code",
      "execution_count": 17,
      "metadata": {
        "colab": {
          "base_uri": "https://localhost:8080/"
        },
        "id": "f8a5-lMdbRAV",
        "outputId": "270c8cda-3c0f-4172-e4e0-abf4586ef278"
      },
      "outputs": [
        {
          "name": "stdout",
          "output_type": "stream",
          "text": [
            "Test Accuracy:  1.000\n"
          ]
        }
      ],
      "source": [
        "def evaluate(model, test_data):\n",
        "\n",
        "    test = Dataset(test_data)\n",
        "    test_dataloader = torch.utils.data.DataLoader(test, batch_size=2)\n",
        "    device = torch.device(\"cuda\" if torch.cuda.is_available() else \"cpu\")\n",
        "    if torch.cuda.is_available():\n",
        "        model = model.cuda()\n",
        "\n",
        "    total_acc_test = 0\n",
        "    with torch.no_grad():\n",
        "        for test_input, test_label in test_dataloader:\n",
        "              test_label = test_label.to(device)\n",
        "              mask = test_input['attention_mask'].to(device)\n",
        "              input_id = test_input['input_ids'].squeeze(1).to(device)\n",
        "              output = model(input_id, mask)\n",
        "              acc = (output.argmax(dim=1) == test_label).sum().item()\n",
        "              total_acc_test += acc\n",
        "    print(f'Test Accuracy: {total_acc_test / len(test_data): .3f}')\n",
        "\n",
        "evaluate(model, df_test)"
      ]
    },
    {
      "cell_type": "markdown",
      "metadata": {
        "id": "taGF1yZKma0Z"
      },
      "source": [
        "6. Predict"
      ]
    },
    {
      "cell_type": "code",
      "execution_count": 3,
      "metadata": {
        "colab": {
          "base_uri": "https://localhost:8080/"
        },
        "id": "HQlLL9xqmi5U",
        "outputId": "f5c6abc3-7a8b-4725-d40c-244f5227f09a"
      },
      "outputs": [
        {
          "name": "stderr",
          "output_type": "stream",
          "text": [
            "Some weights of BertForSequenceClassification were not initialized from the model checkpoint at bert-base-cased and are newly initialized: ['classifier.bias', 'classifier.weight']\n",
            "You should probably TRAIN this model on a down-stream task to be able to use it for predictions and inference.\n"
          ]
        },
        {
          "name": "stdout",
          "output_type": "stream",
          "text": [
            "Predicted label for 'I want to open the file test.md.': 0\n"
          ]
        }
      ],
      "source": [
        "import torch\n",
        "from transformers import BertTokenizer, BertForSequenceClassification\n",
        "\n",
        "labels = {'open a file': 0, 'delete a file': 1, 'ocr a file': 2, 'get latest rss titles': 3, 'search a book': 4, 'tts a file': 5}\n",
        "\n",
        "tokenizer = BertTokenizer.from_pretrained('bert-base-cased')\n",
        "\n",
        "model = BertForSequenceClassification.from_pretrained('bert-base-cased', num_labels=len(labels))\n",
        "\n",
        "device = torch.device(\"cuda\" if torch.cuda.is_available() else \"cpu\")\n",
        "\n",
        "model = torch.load('./classifier.pth')\n",
        "model.to(device)\n",
        "if torch.cuda.is_available():\n",
        "        model = model.cuda()\n",
        "tokenizer = BertTokenizer.from_pretrained('bert-base-cased')\n",
        "\n",
        "model.eval()\n",
        "\n",
        "def predict(model, sentence, tokenizer, labels, device):\n",
        "    inputs = tokenizer(sentence, padding='max_length', max_length=512, truncation=True, return_tensors=\"pt\")\n",
        "    input_id = inputs['input_ids'].to(device)\n",
        "    mask = inputs['attention_mask'].to(device)\n",
        "\n",
        "    with torch.no_grad():\n",
        "        outputs = model(input_id=input_id, mask=mask)\n",
        "\n",
        "    prediction = torch.argmax(outputs, dim=1).item()\n",
        "\n",
        "    return prediction\n",
        "\n",
        "test_sentence = \"I want to open the file test.md.\"\n",
        "predicted_label = predict(model, test_sentence, tokenizer, labels, device)\n",
        "print(f\"Predicted label for '{test_sentence}': {predicted_label}\")"
      ]
    }
  ],
  "metadata": {
    "accelerator": "GPU",
    "colab": {
      "gpuType": "T4",
      "provenance": []
    },
    "kernelspec": {
      "display_name": "Python 3",
      "name": "python3"
    },
    "language_info": {
      "codemirror_mode": {
        "name": "ipython",
        "version": 3
      },
      "file_extension": ".py",
      "mimetype": "text/x-python",
      "name": "python",
      "nbconvert_exporter": "python",
      "pygments_lexer": "ipython3",
      "version": "3.11.7"
    }
  },
  "nbformat": 4,
  "nbformat_minor": 0
}
